{
 "cells": [
  {
   "cell_type": "code",
   "execution_count": null,
   "metadata": {},
   "outputs": [],
   "source": [
    "import brt\n",
    "import pandas as pd"
   ]
  },
  {
   "cell_type": "code",
   "execution_count": null,
   "metadata": {},
   "outputs": [],
   "source": [
    "#display all funda columns\n",
    "\n",
    "brt.show_sas_columns('funda.sas7bdat')"
   ]
  },
  {
   "cell_type": "code",
   "execution_count": null,
   "metadata": {},
   "outputs": [],
   "source": [
    "#read 2,000 observations from funda\n",
    "\n",
    "keys = ['datafmt','indfmt','consol','popsrc','datadate','gvkey','fyear','sich','sale','ib','at','prcc_f','csho','dltt','dlc','rect','invt','cogs','xrd','capx','ni','oiadp','ppegt','seq','che', 'chech','xsga','emp','act','lct','txp','dp']\n",
    "funda = brt.read_sas(\"funda.sas7bdat\", keys, chunksize=1000, batch=2)"
   ]
  },
  {
   "cell_type": "code",
   "execution_count": null,
   "metadata": {},
   "outputs": [],
   "source": [
    "#Apply WRDS filter\n",
    "\n",
    "funda = brt.get_comp(funda)"
   ]
  },
  {
   "cell_type": "code",
   "execution_count": null,
   "metadata": {},
   "outputs": [],
   "source": [
    "#Remove financial firms\n",
    "\n",
    "funda = brt.remove_sic_between(funda, 'sich',6000,6999)"
   ]
  },
  {
   "cell_type": "code",
   "execution_count": null,
   "metadata": {},
   "outputs": [],
   "source": [
    "#Add Fama-French 5-factor code\n",
    "\n",
    "brt.add_ff5(funda,'sich')"
   ]
  },
  {
   "cell_type": "code",
   "execution_count": null,
   "metadata": {},
   "outputs": [],
   "source": [
    "#Read crsp\n",
    "\n",
    "keys=['DATE','PERMNO','RET']\n",
    "dsf = brt.read_sas(\"dsf.sas7bdat\", keys, chunksize=1000)"
   ]
  },
  {
   "cell_type": "code",
   "execution_count": null,
   "metadata": {},
   "outputs": [],
   "source": [
    "#Merge Compustat and CRSP\n",
    "\n",
    "ccmxpf_lnkhist = brt.read_sas('ccmxpf_lnkhist.sas7bdat')\n",
    "funda = brt.add_permno(funda, ccmxpf_lnkhist)\n",
    "funda['datadate']=pd.to_datetime(funda[ 'datadate']) \n",
    "funda_dsf = funda.merge(dsf ,left_on=['PERMNO', 'datadate'], right_on = ['PERMNO', 'DATE'])"
   ]
  },
  {
   "cell_type": "code",
   "execution_count": null,
   "metadata": {},
   "outputs": [],
   "source": [
    "#Winsorize 'sale' and 'ib' columns\n",
    "\n",
    "funda_dsf = brt.winsorize(funda_dsf.reset_index(drop=True), columns=['sale', 'ib']);"
   ]
  }
 ],
 "metadata": {
  "kernelspec": {
   "display_name": "Python 3",
   "language": "python",
   "name": "python3"
  },
  "language_info": {
   "codemirror_mode": {
    "name": "ipython",
    "version": 3
   },
   "file_extension": ".py",
   "mimetype": "text/x-python",
   "name": "python",
   "nbconvert_exporter": "python",
   "pygments_lexer": "ipython3",
   "version": "3.7.9"
  },
  "latex_envs": {
   "LaTeX_envs_menu_present": true,
   "autoclose": false,
   "autocomplete": true,
   "bibliofile": "biblio.bib",
   "cite_by": "apalike",
   "current_citInitial": 1,
   "eqLabelWithNumbers": true,
   "eqNumInitial": 1,
   "hotkeys": {
    "equation": "Ctrl-E",
    "itemize": "Ctrl-I"
   },
   "labels_anchors": false,
   "latex_user_defs": false,
   "report_style_numbering": false,
   "user_envs_cfg": false
  }
 },
 "nbformat": 4,
 "nbformat_minor": 4
}
